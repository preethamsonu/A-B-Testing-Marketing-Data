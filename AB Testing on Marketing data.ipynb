{
 "cells": [
  {
   "cell_type": "code",
   "execution_count": 3,
   "metadata": {},
   "outputs": [],
   "source": [
    "#importing libraries\n",
    "import numpy as np\n",
    "import pandas as pd\n",
    "import matplotlib.pyplot as plt\n",
    "import seaborn as sns\n",
    "\n",
    "import warnings\n",
    "warnings.filterwarnings(\"ignore\")"
   ]
  },
  {
   "cell_type": "code",
   "execution_count": 25,
   "metadata": {},
   "outputs": [],
   "source": [
    "#Read the data\n",
    "df = pd.read_csv(r\"C:\\Users\\PREETHAM\\OneDrive\\Desktop\\Portfolios Tableau\\AB Testing\\marketing_AB.csv\")"
   ]
  },
  {
   "cell_type": "code",
   "execution_count": 26,
   "metadata": {},
   "outputs": [
    {
     "data": {
      "text/html": [
       "<div>\n",
       "<style scoped>\n",
       "    .dataframe tbody tr th:only-of-type {\n",
       "        vertical-align: middle;\n",
       "    }\n",
       "\n",
       "    .dataframe tbody tr th {\n",
       "        vertical-align: top;\n",
       "    }\n",
       "\n",
       "    .dataframe thead th {\n",
       "        text-align: right;\n",
       "    }\n",
       "</style>\n",
       "<table border=\"1\" class=\"dataframe\">\n",
       "  <thead>\n",
       "    <tr style=\"text-align: right;\">\n",
       "      <th></th>\n",
       "      <th>Unnamed: 0</th>\n",
       "      <th>user id</th>\n",
       "      <th>test group</th>\n",
       "      <th>converted</th>\n",
       "      <th>total ads</th>\n",
       "      <th>most ads day</th>\n",
       "      <th>most ads hour</th>\n",
       "    </tr>\n",
       "  </thead>\n",
       "  <tbody>\n",
       "    <tr>\n",
       "      <th>0</th>\n",
       "      <td>0</td>\n",
       "      <td>1069124</td>\n",
       "      <td>ad</td>\n",
       "      <td>False</td>\n",
       "      <td>130</td>\n",
       "      <td>Monday</td>\n",
       "      <td>20</td>\n",
       "    </tr>\n",
       "    <tr>\n",
       "      <th>1</th>\n",
       "      <td>1</td>\n",
       "      <td>1119715</td>\n",
       "      <td>ad</td>\n",
       "      <td>False</td>\n",
       "      <td>93</td>\n",
       "      <td>Tuesday</td>\n",
       "      <td>22</td>\n",
       "    </tr>\n",
       "    <tr>\n",
       "      <th>2</th>\n",
       "      <td>2</td>\n",
       "      <td>1144181</td>\n",
       "      <td>ad</td>\n",
       "      <td>False</td>\n",
       "      <td>21</td>\n",
       "      <td>Tuesday</td>\n",
       "      <td>18</td>\n",
       "    </tr>\n",
       "    <tr>\n",
       "      <th>3</th>\n",
       "      <td>3</td>\n",
       "      <td>1435133</td>\n",
       "      <td>ad</td>\n",
       "      <td>False</td>\n",
       "      <td>355</td>\n",
       "      <td>Tuesday</td>\n",
       "      <td>10</td>\n",
       "    </tr>\n",
       "    <tr>\n",
       "      <th>4</th>\n",
       "      <td>4</td>\n",
       "      <td>1015700</td>\n",
       "      <td>ad</td>\n",
       "      <td>False</td>\n",
       "      <td>276</td>\n",
       "      <td>Friday</td>\n",
       "      <td>14</td>\n",
       "    </tr>\n",
       "  </tbody>\n",
       "</table>\n",
       "</div>"
      ],
      "text/plain": [
       "   Unnamed: 0  user id test group  converted  total ads most ads day  \\\n",
       "0           0  1069124         ad      False        130       Monday   \n",
       "1           1  1119715         ad      False         93      Tuesday   \n",
       "2           2  1144181         ad      False         21      Tuesday   \n",
       "3           3  1435133         ad      False        355      Tuesday   \n",
       "4           4  1015700         ad      False        276       Friday   \n",
       "\n",
       "   most ads hour  \n",
       "0             20  \n",
       "1             22  \n",
       "2             18  \n",
       "3             10  \n",
       "4             14  "
      ]
     },
     "execution_count": 26,
     "metadata": {},
     "output_type": "execute_result"
    }
   ],
   "source": [
    "df.head()"
   ]
  },
  {
   "cell_type": "code",
   "execution_count": 27,
   "metadata": {},
   "outputs": [
    {
     "data": {
      "text/plain": [
       "0"
      ]
     },
     "execution_count": 27,
     "metadata": {},
     "output_type": "execute_result"
    }
   ],
   "source": [
    "#Checking for duplicates\n",
    "df.duplicated(subset = 'user id').sum()"
   ]
  },
  {
   "cell_type": "code",
   "execution_count": 33,
   "metadata": {},
   "outputs": [],
   "source": [
    "#dropping the unwanted coulmns\n",
    "df.drop([\"Unnamed: 0\",\"user id\"], axis = 1, inplace  = True)"
   ]
  },
  {
   "cell_type": "code",
   "execution_count": 42,
   "metadata": {},
   "outputs": [
    {
     "data": {
      "text/plain": [
       "Index(['test group', 'converted', 'total ads', 'most ads day',\n",
       "       'most ads hour'],\n",
       "      dtype='object')"
      ]
     },
     "execution_count": 42,
     "metadata": {},
     "output_type": "execute_result"
    }
   ],
   "source": [
    "df.columns"
   ]
  },
  {
   "cell_type": "code",
   "execution_count": 45,
   "metadata": {},
   "outputs": [
    {
     "data": {
      "text/plain": [
       "test group        2\n",
       "converted         2\n",
       "most ads day      7\n",
       "most ads hour    24\n",
       "dtype: int64"
      ]
     },
     "execution_count": 45,
     "metadata": {},
     "output_type": "execute_result"
    }
   ],
   "source": [
    "# checking the categories\n",
    "df_cat = df[['test group', 'converted', 'most ads day',\n",
    "       'most ads hour']]\n",
    "df_cat.nunique()"
   ]
  },
  {
   "cell_type": "code",
   "execution_count": 51,
   "metadata": {
    "scrolled": false
   },
   "outputs": [
    {
     "name": "stdout",
     "output_type": "stream",
     "text": [
      "TEST GROUP : ['ad' 'psa']\n",
      "CONVERTED : [False  True]\n",
      "MOST ADS DAY : ['Monday' 'Tuesday' 'Friday' 'Saturday' 'Wednesday' 'Sunday' 'Thursday']\n",
      "MOST ADS HOUR : [20 22 18 10 14 13 19 11 12 16 21  3 23  4  8  0  2 15  1  6 17  7  9  5]\n"
     ]
    }
   ],
   "source": [
    "for i in df_cat.columns:\n",
    "    print(i.upper(),\":\",df_cat[i].unique())"
   ]
  },
  {
   "cell_type": "markdown",
   "metadata": {},
   "source": [
    "# Univariate Analysis"
   ]
  },
  {
   "cell_type": "code",
   "execution_count": 62,
   "metadata": {},
   "outputs": [
    {
     "data": {
      "text/plain": [
       "<function matplotlib.pyplot.show(close=None, block=None)>"
      ]
     },
     "execution_count": 62,
     "metadata": {},
     "output_type": "execute_result"
    },
    {
     "data": {
      "image/png": "[encoded data removed]",
      "text/plain": [
       "<Figure size 432x288 with 2 Axes>"
      ]
     },
     "metadata": {
      "needs_background": "light"
     },
     "output_type": "display_data"
    }
   ],
   "source": [
    "variable  = 'test group'\n",
    "\n",
    "plt.figure(figsize = (6,4))\n",
    "# Count plot\n",
    "plt.subplot(1,2,1)\n",
    "sns.countplot(x=variable, data = df_cat)\n",
    "plt.title(f'Count Plot - {variable}')\n",
    "\n",
    "#Pie Chart\n",
    "plt.subplot(1,2,2)\n",
    "counts = df_cat[variable].value_counts()\n",
    "plt.pie(counts, labels = counts.index, autopct = \"%0.2f%%\")\n",
    "plt.title(f'Pie Chart - {variable}')\n",
    "\n",
    "plt.tight_layout()\n",
    "plt.show"
   ]
  },
  {
   "cell_type": "code",
   "execution_count": 69,
   "metadata": {},
   "outputs": [
    {
     "data": {
      "text/plain": [
       "<function matplotlib.pyplot.show(close=None, block=None)>"
      ]
     },
     "execution_count": 69,
     "metadata": {},
     "output_type": "execute_result"
    },
    {
     "data": {
      "image/png": "[encoded data removed]",
      "text/plain": [
       "<Figure size 432x288 with 2 Axes>"
      ]
     },
     "metadata": {
      "needs_background": "light"
     },
     "output_type": "display_data"
    }
   ],
   "source": [
    "variable  = 'converted'\n",
    "\n",
    "plt.figure(figsize = (6,4))\n",
    "# Count plot\n",
    "plt.subplot(1,2,1)\n",
    "sns.countplot(x=variable, data = df_cat)\n",
    "plt.title(f'Count Plot - {variable}')\n",
    "\n",
    "#Pie Chart\n",
    "plt.subplot(1,2,2)\n",
    "counts = df_cat[variable].value_counts()\n",
    "plt.pie(counts, labels = counts.index, autopct = \"%0.2f%%\")\n",
    "plt.title(f'Pie Chart - {variable}')\n",
    "\n",
    "plt.tight_layout()\n",
    "plt.show"
   ]
  },
  {
   "cell_type": "code",
   "execution_count": 95,
   "metadata": {},
   "outputs": [
    {
     "data": {
      "text/plain": [
       "<function matplotlib.pyplot.show(close=None, block=None)>"
      ]
     },
     "execution_count": 95,
     "metadata": {},
     "output_type": "execute_result"
    },
    {
     "data": {
      "image/png": "[encoded data removed]",
      "text/plain": [
       "<Figure size 432x288 with 2 Axes>"
      ]
     },
     "metadata": {
      "needs_background": "light"
     },
     "output_type": "display_data"
    }
   ],
   "source": [
    "variable  = 'most ads day'\n",
    "\n",
    "plt.figure(figsize = (6,4))\n",
    "# Count plot\n",
    "plt.subplot(1,2,1)\n",
    "sns.countplot(x=variable, data = df_cat, order = df_cat['most ads day'].value_counts().index)\n",
    "plt.title(f'Count Plot - {variable}')\n",
    "plt.xticks(rotation =90)\n",
    "\n",
    "#Pie Chart\n",
    "plt.subplot(1,2,2)\n",
    "counts = df_cat[variable].value_counts()\n",
    "plt.pie(counts, labels = counts.index, autopct = \"%0.2f%%\")\n",
    "plt.title(f'Pie Chart - {variable}')\n",
    "\n",
    "plt.tight_layout()\n",
    "plt.show"
   ]
  },
  {
   "cell_type": "code",
   "execution_count": 86,
   "metadata": {},
   "outputs": [
    {
     "data": {
      "text/plain": [
       "<function matplotlib.pyplot.show(close=None, block=None)>"
      ]
     },
     "execution_count": 86,
     "metadata": {},
     "output_type": "execute_result"
    },
    {
     "data": {
      "image/png": "[encoded data removed]",
      "text/plain": [
       "<Figure size 576x288 with 1 Axes>"
      ]
     },
     "metadata": {
      "needs_background": "light"
     },
     "output_type": "display_data"
    }
   ],
   "source": [
    "variable  = 'most ads hour'\n",
    "\n",
    "plt.figure(figsize = (8,4))\n",
    "# Count plot\n",
    "plt.subplot(1,2,1)\n",
    "sns.countplot(x=variable, data = df_cat, order = df_cat['most ads hour'].value_counts().index)\n",
    "plt.title(f'Count Plot - {variable}')\n",
    "plt.xticks(rotation =90)\n",
    "\n",
    "#Pie Chart\n",
    "# plt.subplot(1,2,2)\n",
    "# counts = df_cat[variable].value_counts()\n",
    "# plt.pie(counts, labels = counts.index, autopct = \"%0.2f%%\")\n",
    "# plt.title(f'Pie Chart - {variable}')\n",
    "\n",
    "# plt.tight_layout()\n",
    "plt.show"
   ]
  },
  {
   "cell_type": "code",
   "execution_count": 103,
   "metadata": {},
   "outputs": [
    {
     "data": {
      "text/plain": [
       "<function matplotlib.pyplot.show(close=None, block=None)>"
      ]
     },
     "execution_count": 103,
     "metadata": {},
     "output_type": "execute_result"
    },
    {
     "data": {
      "image/png": "[encoded data removed]",
      "text/plain": [
       "<Figure size 432x288 with 2 Axes>"
      ]
     },
     "metadata": {
      "needs_background": "light"
     },
     "output_type": "display_data"
    }
   ],
   "source": [
    "variable  = 'total ads'\n",
    "\n",
    "plt.figure(figsize = (6,4))\n",
    "# Histogram\n",
    "plt.subplot(1,2,1)\n",
    "sns.histplot(x=variable, data = df)\n",
    "plt.title(f'Histogram - {variable}')\n",
    "\n",
    "# #Pie Chart\n",
    "plt.subplot(1,2,2)\n",
    "sns.boxplot(y = variable, data = df)\n",
    "plt.title(f'boxplot - {variable}')\n",
    "\n",
    "plt.tight_layout()\n",
    "\n",
    "plt.show"
   ]
  },
  {
   "cell_type": "code",
   "execution_count": 107,
   "metadata": {},
   "outputs": [
    {
     "data": {
      "text/plain": [
       "count    588101.000000\n",
       "mean         24.820876\n",
       "std          43.715181\n",
       "min           1.000000\n",
       "25%           4.000000\n",
       "50%          13.000000\n",
       "75%          27.000000\n",
       "max        2065.000000\n",
       "Name: total ads, dtype: float64"
      ]
     },
     "execution_count": 107,
     "metadata": {},
     "output_type": "execute_result"
    }
   ],
   "source": [
    "df['total ads'].describe()"
   ]
  },
  {
   "cell_type": "code",
   "execution_count": 109,
   "metadata": {},
   "outputs": [
    {
     "data": {
      "text/plain": [
       "<function matplotlib.pyplot.show(close=None, block=None)>"
      ]
     },
     "execution_count": 109,
     "metadata": {},
     "output_type": "execute_result"
    },
    {
     "data": {
      "image/png": "[encoded data removed]",
      "text/plain": [
       "<Figure size 432x288 with 2 Axes>"
      ]
     },
     "metadata": {
      "needs_background": "light"
     },
     "output_type": "display_data"
    }
   ],
   "source": [
    "#Filtering value close to 75th percentile\n",
    "variable  = 'total ads'\n",
    "\n",
    "plt.figure(figsize = (6,4))\n",
    "# Histogram\n",
    "plt.subplot(1,2,1)\n",
    "sns.histplot(x=variable, data = df[df['total ads']<50])\n",
    "plt.title(f'Histogram - {variable}')\n",
    "\n",
    "# #Pie Chart\n",
    "plt.subplot(1,2,2)\n",
    "sns.boxplot(y = variable, data = df[df['total ads']<50])\n",
    "plt.title(f'boxplot - {variable}')\n",
    "\n",
    "plt.tight_layout()\n",
    "\n",
    "plt.show"
   ]
  },
  {
   "cell_type": "markdown",
   "metadata": {},
   "source": [
    "# Bivariate Analysis"
   ]
  },
  {
   "cell_type": "code",
   "execution_count": 110,
   "metadata": {},
   "outputs": [
    {
     "data": {
      "text/plain": [
       "Index(['test group', 'converted', 'total ads', 'most ads day',\n",
       "       'most ads hour'],\n",
       "      dtype='object')"
      ]
     },
     "execution_count": 110,
     "metadata": {},
     "output_type": "execute_result"
    }
   ],
   "source": [
    "df.columns"
   ]
  },
  {
   "cell_type": "code",
   "execution_count": 112,
   "metadata": {},
   "outputs": [
    {
     "data": {
      "text/html": [
       "<div>\n",
       "<style scoped>\n",
       "    .dataframe tbody tr th:only-of-type {\n",
       "        vertical-align: middle;\n",
       "    }\n",
       "\n",
       "    .dataframe tbody tr th {\n",
       "        vertical-align: top;\n",
       "    }\n",
       "\n",
       "    .dataframe thead th {\n",
       "        text-align: right;\n",
       "    }\n",
       "</style>\n",
       "<table border=\"1\" class=\"dataframe\">\n",
       "  <thead>\n",
       "    <tr style=\"text-align: right;\">\n",
       "      <th>converted</th>\n",
       "      <th>False</th>\n",
       "      <th>True</th>\n",
       "    </tr>\n",
       "    <tr>\n",
       "      <th>test group</th>\n",
       "      <th></th>\n",
       "      <th></th>\n",
       "    </tr>\n",
       "  </thead>\n",
       "  <tbody>\n",
       "    <tr>\n",
       "      <th>ad</th>\n",
       "      <td>0.974453</td>\n",
       "      <td>0.025547</td>\n",
       "    </tr>\n",
       "    <tr>\n",
       "      <th>psa</th>\n",
       "      <td>0.982146</td>\n",
       "      <td>0.017854</td>\n",
       "    </tr>\n",
       "  </tbody>\n",
       "</table>\n",
       "</div>"
      ],
      "text/plain": [
       "converted      False     True \n",
       "test group                    \n",
       "ad          0.974453  0.025547\n",
       "psa         0.982146  0.017854"
      ]
     },
     "execution_count": 112,
     "metadata": {},
     "output_type": "execute_result"
    }
   ],
   "source": [
    "ct_conv_test_group = pd.crosstab(df['test group'],df['converted'], normalize = 'index')\n",
    "ct_conv_test_group"
   ]
  },
  {
   "cell_type": "code",
   "execution_count": 114,
   "metadata": {},
   "outputs": [
    {
     "data": {
      "image/png": "[encoded data removed]",
      "text/plain": [
       "<Figure size 432x288 with 1 Axes>"
      ]
     },
     "metadata": {
      "needs_background": "light"
     },
     "output_type": "display_data"
    }
   ],
   "source": [
    "ct_conv_test_group.plot.bar(stacked = True);"
   ]
  },
  {
   "cell_type": "code",
   "execution_count": 118,
   "metadata": {},
   "outputs": [
    {
     "name": "stdout",
     "output_type": "stream",
     "text": [
      "converted        False     True \n",
      "most ads day                    \n",
      "Monday        0.967188  0.032812\n",
      "Tuesday       0.970160  0.029840\n",
      "Wednesday     0.975058  0.024942\n",
      "Sunday        0.975524  0.024476\n",
      "Friday        0.977788  0.022212\n",
      "Thursday      0.978429  0.021571\n",
      "Saturday      0.978949  0.021051\n"
     ]
    },
    {
     "data": {
      "image/png": "[encoded data removed]",
      "text/plain": [
       "<Figure size 432x288 with 1 Axes>"
      ]
     },
     "metadata": {
      "needs_background": "light"
     },
     "output_type": "display_data"
    }
   ],
   "source": [
    "# Sorting by conversation rate as True and desecending for most ads day\n",
    "\n",
    "ct_conv_day = pd.crosstab(df['most ads day'],df['converted'], normalize = 'index')\n",
    "print(ct_conv_day.sort_values(by = True, ascending = False ))\n",
    "ct_conv_day.plot.bar(stacked = True);"
   ]
  },
  {
   "cell_type": "markdown",
   "metadata": {},
   "source": [
    "### Most conversions are done on Monday with 3.2%."
   ]
  },
  {
   "cell_type": "code",
   "execution_count": 119,
   "metadata": {},
   "outputs": [
    {
     "name": "stdout",
     "output_type": "stream",
     "text": [
      "converted         False     True \n",
      "most ads hour                    \n",
      "16             0.969228  0.030772\n",
      "20             0.970197  0.029803\n",
      "15             0.970347  0.029653\n",
      "21             0.971077  0.028923\n",
      "17             0.971790  0.028210\n",
      "14             0.971937  0.028063\n",
      "18             0.972620  0.027380\n",
      "19             0.973280  0.026720\n",
      "22             0.973895  0.026105\n",
      "13             0.975323  0.024677\n",
      "12             0.976172  0.023828\n",
      "23             0.977338  0.022662\n",
      "6              0.977756  0.022244\n",
      "11             0.977884  0.022116\n",
      "10             0.978479  0.021521\n",
      "5              0.979085  0.020915\n",
      "8              0.980484  0.019516\n",
      "9              0.980809  0.019191\n",
      "0              0.981575  0.018425\n",
      "7              0.981889  0.018111\n",
      "4              0.984765  0.015235\n",
      "1              0.987089  0.012911\n",
      "3              0.989548  0.010452\n",
      "2              0.992687  0.007313\n"
     ]
    },
    {
     "data": {
      "image/png": "[encoded data removed]",
      "text/plain": [
       "<Figure size 432x288 with 1 Axes>"
      ]
     },
     "metadata": {
      "needs_background": "light"
     },
     "output_type": "display_data"
    }
   ],
   "source": [
    "# Sorting by conversation rate as True and desecending by most ads hour\n",
    "\n",
    "ct_conv_hour = pd.crosstab(df['most ads hour'],df['converted'], normalize = 'index')\n",
    "print(ct_conv_hour.sort_values(by = True, ascending = False ))\n",
    "ct_conv_hour.plot.bar(stacked = True);"
   ]
  },
  {
   "cell_type": "markdown",
   "metadata": {},
   "source": [
    "### Most conversions are done at 4 PM."
   ]
  },
  {
   "cell_type": "code",
   "execution_count": 121,
   "metadata": {},
   "outputs": [
    {
     "data": {
      "image/png": "[encoded data removed]",
      "text/plain": [
       "<Figure size 432x288 with 1 Axes>"
      ]
     },
     "metadata": {
      "needs_background": "light"
     },
     "output_type": "display_data"
    }
   ],
   "source": [
    "sns.boxplot(x = 'converted', y= 'total ads', data = df);"
   ]
  },
  {
   "cell_type": "code",
   "execution_count": 122,
   "metadata": {},
   "outputs": [
    {
     "data": {
      "text/plain": [
       "<AxesSubplot:xlabel='converted', ylabel='total ads'>"
      ]
     },
     "execution_count": 122,
     "metadata": {},
     "output_type": "execute_result"
    },
    {
     "data": {
      "image/png": "[encoded data removed]",
      "text/plain": [
       "<Figure size 432x288 with 1 Axes>"
      ]
     },
     "metadata": {
      "needs_background": "light"
     },
     "output_type": "display_data"
    }
   ],
   "source": [
    "#Filtering value close to 75th percentile\n",
    "\n",
    "sns.boxplot(x = 'converted', y= 'total ads',data = df[df['total ads']<50])"
   ]
  },
  {
   "cell_type": "markdown",
   "metadata": {},
   "source": [
    " ### Repated targeting is helping in conversion rate."
   ]
  },
  {
   "cell_type": "markdown",
   "metadata": {},
   "source": [
    "# Satistical Tests"
   ]
  },
  {
   "cell_type": "code",
   "execution_count": 129,
   "metadata": {},
   "outputs": [
    {
     "name": "stdout",
     "output_type": "stream",
     "text": [
      "\n",
      "Chi-squared test for test group vs converted:\n",
      "Chi-squared value : 54.005823883685245\n",
      "p-value : 1.9989623063390075e-13\n",
      "The difference in conversion rates across test group is statistically significant.\n",
      "\n",
      "Chi-squared test for most ads day vs converted:\n",
      "Chi-squared value : 410.0478857936585\n",
      "p-value : 1.932184379244731e-85\n",
      "The difference in conversion rates across most ads day is statistically significant.\n",
      "\n",
      "Chi-squared test for most ads hour vs converted:\n",
      "Chi-squared value : 430.76869230822086\n",
      "p-value : 8.027629823696771e-77\n",
      "The difference in conversion rates across most ads hour is statistically significant.\n"
     ]
    }
   ],
   "source": [
    "from scipy.stats import chi2_contingency\n",
    "alpha = 0.05\n",
    "for variable in df_cat.columns:\n",
    "    if variable != \"converted\":\n",
    "    # Creating a contingency table\n",
    "        contingency_table = pd.crosstab(df_cat[variable],df_cat['converted'])\n",
    "\n",
    "        # Perform chi-squared test\n",
    "        chi2, p, dof, ex = chi2_contingency(contingency_table)\n",
    "\n",
    "        print(f'\\nChi-squared test for {variable} vs converted:')\n",
    "        print(f'Chi-squared value : {chi2}')\n",
    "        print(f'p-value : {p}')\n",
    "\n",
    "        if p < alpha:\n",
    "              print(f'The difference in conversion rates across {variable} is statistically significant.')\n",
    "        else:\n",
    "              print(f'There is no siginificant difference in conversion rates across {variable}')\n"
   ]
  },
  {
   "cell_type": "code",
   "execution_count": 132,
   "metadata": {},
   "outputs": [
    {
     "data": {
      "text/plain": [
       "Index(['test group', 'converted', 'most ads day', 'most ads hour'], dtype='object')"
      ]
     },
     "execution_count": 132,
     "metadata": {},
     "output_type": "execute_result"
    }
   ],
   "source": [
    "df_cat.columns"
   ]
  },
  {
   "cell_type": "code",
   "execution_count": 134,
   "metadata": {},
   "outputs": [
    {
     "name": "stdout",
     "output_type": "stream",
     "text": [
      "Shapiro-Wilk test for normality (True group) : p-value = 0.0\n",
      "Shapiro-Wilk test for normality (False group) : p-value = 0.0\n",
      "Levene's test for equality of variance: p-value = 0.0 \n"
     ]
    }
   ],
   "source": [
    "from scipy.stats import shapiro, levene, ttest_ind, mannwhitneyu\n",
    "\n",
    "# Step 1: Checking Assumptions\n",
    "\n",
    "# Normality assumption\n",
    "\n",
    "shapiro_stat_true, shapiro_p_value_true = shapiro(df[df['converted'] == True]['total ads'])\n",
    "shapiro_stat_false, shapiro_p_value_false = shapiro(df[df['converted'] == False]['total ads'])\n",
    "\n",
    "print(f'Shapiro-Wilk test for normality (True group) : p-value = {shapiro_p_value_true}')\n",
    "print(f'Shapiro-Wilk test for normality (False group) : p-value = {shapiro_p_value_false}')\n",
    "\n",
    "# Equality of variance \n",
    "levene_stat, levene_p_value = levene(df[df['converted']]['total ads'],df[~df['converted']]['total ads'])\n",
    "print(f\"Levene's test for equality of variance: p-value = {levene_p_value} \")"
   ]
  },
  {
   "cell_type": "markdown",
   "metadata": {},
   "source": [
    "### None of the above conditions are satisfied so we perform Mann-Whitney U test."
   ]
  },
  {
   "cell_type": "code",
   "execution_count": 136,
   "metadata": {},
   "outputs": [
    {
     "name": "stdout",
     "output_type": "stream",
     "text": [
      "Mann-Whitney U test: p-vaule = 0.0\n"
     ]
    }
   ],
   "source": [
    "# Step 2 Perform a Suitable test\n",
    "alpha = 0.05\n",
    "\n",
    "if shapiro_p_value_true > alpha and shapiro_p_value_false > alpha and levene_p_value > alpha:\n",
    "    t_stat, t_p_value = ttest_in(df[df['converted']]['total ads'],df[~df['converted']]['total ads'])\n",
    "    print(f\"Independent two_sample t-test: p-value = {t_p_value}\")\n",
    "else:\n",
    "    u_stat, u_p_value = mannwhitneyu(df[df['converted']]['total ads'],df[~df['converted']]['total ads'])\n",
    "    print(f\"Mann-Whitney U test: p-vaule = {u_p_value}\")"
   ]
  },
  {
   "cell_type": "markdown",
   "metadata": {},
   "source": [
    "### The median of total ads people saw makes difference in conversion status."
   ]
  }
 ],
 "metadata": {
  "kernelspec": {
   "display_name": "Python 3",
   "language": "python",
   "name": "python3"
  },
  "language_info": {
   "codemirror_mode": {
    "name": "ipython",
    "version": 3
   },
   "file_extension": ".py",
   "mimetype": "text/x-python",
   "name": "python",
   "nbconvert_exporter": "python",
   "pygments_lexer": "ipython3",
   "version": "3.8.5"
  }
 },
 "nbformat": 4,
 "nbformat_minor": 4
}
